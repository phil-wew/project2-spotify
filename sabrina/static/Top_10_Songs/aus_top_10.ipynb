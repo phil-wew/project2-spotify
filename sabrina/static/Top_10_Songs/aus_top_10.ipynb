{
 "cells": [
  {
   "cell_type": "code",
   "execution_count": 3,
   "metadata": {},
   "outputs": [
    {
     "data": {
      "text/html": [
       "<div>\n",
       "<style scoped>\n",
       "    .dataframe tbody tr th:only-of-type {\n",
       "        vertical-align: middle;\n",
       "    }\n",
       "\n",
       "    .dataframe tbody tr th {\n",
       "        vertical-align: top;\n",
       "    }\n",
       "\n",
       "    .dataframe thead th {\n",
       "        text-align: right;\n",
       "    }\n",
       "</style>\n",
       "<table border=\"1\" class=\"dataframe\">\n",
       "  <thead>\n",
       "    <tr style=\"text-align: right;\">\n",
       "      <th></th>\n",
       "      <th>Position</th>\n",
       "      <th>Track Name</th>\n",
       "      <th>Artist</th>\n",
       "      <th>Streams</th>\n",
       "      <th>URL</th>\n",
       "      <th>Week</th>\n",
       "      <th>Region</th>\n",
       "    </tr>\n",
       "  </thead>\n",
       "  <tbody>\n",
       "    <tr>\n",
       "      <th>0</th>\n",
       "      <td>1</td>\n",
       "      <td>Dance Monkey</td>\n",
       "      <td>Tones And I</td>\n",
       "      <td>316946</td>\n",
       "      <td>https://open.spotify.com/track/1rgnBhdG2JDFTbY...</td>\n",
       "      <td>2019-11-15</td>\n",
       "      <td>Austria</td>\n",
       "    </tr>\n",
       "    <tr>\n",
       "      <th>1</th>\n",
       "      <td>2</td>\n",
       "      <td>Roller</td>\n",
       "      <td>Apache 207</td>\n",
       "      <td>293115</td>\n",
       "      <td>https://open.spotify.com/track/6hw1Sy9wZ8UCxYG...</td>\n",
       "      <td>2019-11-15</td>\n",
       "      <td>Austria</td>\n",
       "    </tr>\n",
       "    <tr>\n",
       "      <th>2</th>\n",
       "      <td>3</td>\n",
       "      <td>KARMA</td>\n",
       "      <td>Nimo</td>\n",
       "      <td>221986</td>\n",
       "      <td>https://open.spotify.com/track/6oX9RuILbVIglev...</td>\n",
       "      <td>2019-11-15</td>\n",
       "      <td>Austria</td>\n",
       "    </tr>\n",
       "    <tr>\n",
       "      <th>3</th>\n",
       "      <td>4</td>\n",
       "      <td>Kafa Leyla</td>\n",
       "      <td>BRADO</td>\n",
       "      <td>192961</td>\n",
       "      <td>https://open.spotify.com/track/1BEo3epznRQuYhu...</td>\n",
       "      <td>2019-11-15</td>\n",
       "      <td>Austria</td>\n",
       "    </tr>\n",
       "    <tr>\n",
       "      <th>4</th>\n",
       "      <td>5</td>\n",
       "      <td>110</td>\n",
       "      <td>Capital Bra</td>\n",
       "      <td>189550</td>\n",
       "      <td>https://open.spotify.com/track/67ojvEGRPAUCOoh...</td>\n",
       "      <td>2019-11-15</td>\n",
       "      <td>Austria</td>\n",
       "    </tr>\n",
       "  </tbody>\n",
       "</table>\n",
       "</div>"
      ],
      "text/plain": [
       "   Position    Track Name       Artist  Streams  \\\n",
       "0         1  Dance Monkey  Tones And I   316946   \n",
       "1         2        Roller   Apache 207   293115   \n",
       "2         3         KARMA         Nimo   221986   \n",
       "3         4    Kafa Leyla        BRADO   192961   \n",
       "4         5           110  Capital Bra   189550   \n",
       "\n",
       "                                                 URL        Week   Region  \n",
       "0  https://open.spotify.com/track/1rgnBhdG2JDFTbY...  2019-11-15  Austria  \n",
       "1  https://open.spotify.com/track/6hw1Sy9wZ8UCxYG...  2019-11-15  Austria  \n",
       "2  https://open.spotify.com/track/6oX9RuILbVIglev...  2019-11-15  Austria  \n",
       "3  https://open.spotify.com/track/1BEo3epznRQuYhu...  2019-11-15  Austria  \n",
       "4  https://open.spotify.com/track/67ojvEGRPAUCOoh...  2019-11-15  Austria  "
      ]
     },
     "execution_count": 3,
     "metadata": {},
     "output_type": "execute_result"
    }
   ],
   "source": [
    "import pandas as pd\n",
    "import matplotlib.pyplot as plt\n",
    "import scipy.stats as st\n",
    "import numpy as np\n",
    "#Creating names for files to read in to\n",
    "file_1 = \"../data/austria_masterfile.csv\"\n",
    "aus_df = pd.read_csv(file_1)\n",
    "aus_df.head()"
   ]
  },
  {
   "cell_type": "code",
   "execution_count": 7,
   "metadata": {},
   "outputs": [
    {
     "name": "stdout",
     "output_type": "stream",
     "text": [
      "       Position    Track Name       Artist  Streams  \\\n",
      "7200          1       Tilidin  Capital Bra   693631   \n",
      "6800          1   Cherry Lady  Capital Bra   591607   \n",
      "3200          1   Wieder Lila        Samra   557324   \n",
      "2400          1           110  Capital Bra   549468   \n",
      "8800          1      Wolke 10         MERO   505043   \n",
      "5600          1   Hobby Hobby         MERO   477263   \n",
      "3800          1  Dance Monkey  Tones And I   475550   \n",
      "10000         1  Dance Monkey  Tones And I   471032   \n",
      "6200          1    Wir ticken  Capital Bra   466741   \n",
      "4800          1  Dance Monkey  Tones And I   457785   \n",
      "\n",
      "                                                     URL        Week   Region  \n",
      "7200   https://open.spotify.com/track/1VEMUkGFio5uURv...  2019-06-28  Austria  \n",
      "6800   https://open.spotify.com/track/3r1cV21xPMkgCmx...  2019-03-29  Austria  \n",
      "3200   https://open.spotify.com/track/2kkcJ8tSDV42LdW...  2019-05-24  Austria  \n",
      "2400   https://open.spotify.com/track/5sdQ7VUx6GOfsRo...  2019-09-27  Austria  \n",
      "8800   https://open.spotify.com/track/14f1n3XCW3fQhAO...  2019-03-15  Austria  \n",
      "5600   https://open.spotify.com/track/260R90ctQ1SiPax...  2019-01-25  Austria  \n",
      "3800   https://open.spotify.com/track/1rgnBhdG2JDFTbY...  2019-10-04  Austria  \n",
      "10000  https://open.spotify.com/track/1rgnBhdG2JDFTbY...  2019-10-11  Austria  \n",
      "6200   https://open.spotify.com/track/1mdJ39D1lrR3aWI...  2019-03-22  Austria  \n",
      "4800   https://open.spotify.com/track/1rgnBhdG2JDFTbY...  2019-10-18  Austria  \n"
     ]
    }
   ],
   "source": [
    "top_10 = aus_df.nlargest(10,'Streams')\n",
    "print(top_10)"
   ]
  },
  {
   "cell_type": "code",
   "execution_count": null,
   "metadata": {},
   "outputs": [],
   "source": []
  }
 ],
 "metadata": {
  "kernelspec": {
   "display_name": "Python 3.8.3 64-bit ('PythonData': conda)",
   "language": "python",
   "name": "python38364bitpythondataconda5a1651f5006c42e28f55073acdf8b1f4"
  },
  "language_info": {
   "codemirror_mode": {
    "name": "ipython",
    "version": 3
   },
   "file_extension": ".py",
   "mimetype": "text/x-python",
   "name": "python",
   "nbconvert_exporter": "python",
   "pygments_lexer": "ipython3",
   "version": "3.8.3"
  }
 },
 "nbformat": 4,
 "nbformat_minor": 4
}
