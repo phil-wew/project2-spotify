{
 "cells": [
  {
   "cell_type": "code",
   "execution_count": null,
   "metadata": {},
   "outputs": [],
   "source": [
    "import os\n",
    "\n",
    "from sqlalchemy import create_engine\n",
    "\n",
    "import pandas as pd\n",
    "import numpy as np\n",
    "\n",
    "\n",
    "from sqlalchemy import create_engine\n",
    "\n",
    "engine = create_engine('sqlite://', echo=False)\n"
   ]
  },
  {
   "cell_type": "code",
   "execution_count": 117,
   "metadata": {},
   "outputs": [],
   "source": [
    "track_features = pd.read_csv(r'all_songs_data/data.csv')\n",
    "\n",
    "track_features = track_features.rename(columns={\"name\" : \"Track Name\", \"artists\" : \"Artist\"})\n",
    "\n",
    "track_features.loc[:,'Artist'] = track_features.Artist.map(lambda x: x.replace(\"['\", \"\").replace(\"']\",\"\"))\n",
    "                                                \n",
    "    \n",
    "    "
   ]
  },
  {
   "cell_type": "code",
   "execution_count": null,
   "metadata": {},
   "outputs": [],
   "source": [
    "filenames = [i for i in os.listdir('global_weekly_charts') if \".csv\" in i]\n",
    "alldata = pd.DataFrame()\n",
    "\n",
    "for i in filenames:\n",
    "    date = i[35:45]\n",
    "    df = pd.read_csv('global_weekly_charts/' + i, header = 1)\n",
    "    df.loc[:,'Week']= date\n",
    "    df.loc[:,'Region'] = 'Global'\n",
    "    df.to_csv('global_weekly_charts/' + i, index = False)\n",
    "    \n",
    "    #Now accumulate to master file\n",
    "    alldata = pd.concat((alldata, df))\n",
    "    print(df.columns)\n",
    "\n",
    "alldata.to_csv('all_weekly_charts/global_masterfile.csv', index = False)"
   ]
  },
  {
   "cell_type": "code",
   "execution_count": null,
   "metadata": {},
   "outputs": [],
   "source": [
    "filenames = [i for i in os.listdir('argentina_weekly_charts') if \".csv\" in i]\n",
    "alldata = pd.DataFrame()\n",
    "\n",
    "for i in filenames:\n",
    "    date = i[31:41]\n",
    "    df = pd.read_csv('argentina_weekly_charts/' + i, header = 1)\n",
    "    df.loc[:,'Week']= date\n",
    "    df.loc[:,'Region'] = 'Argentina'\n",
    "    df.to_csv('argentina_weekly_charts/' + i, index = False)\n",
    "    \n",
    "    #Now accumulate to master file\n",
    "    alldata = pd.concat((alldata, df))\n",
    "    print(i)\n",
    "\n",
    "alldata.to_csv('all_weekly_charts/argentina_masterfile.csv', index = False)"
   ]
  },
  {
   "cell_type": "code",
   "execution_count": null,
   "metadata": {},
   "outputs": [],
   "source": [
    "filenames = [i for i in os.listdir('austria_weekly_charts') if \".csv\" in i]\n",
    "alldata = pd.DataFrame()\n",
    "\n",
    "for i in filenames:\n",
    "    date = i[31:41]\n",
    "    df = pd.read_csv('austria_weekly_charts/' + i, header = 1)\n",
    "    df.loc[:,'Week']= date\n",
    "    df.loc[:,'Region'] = 'Austria'\n",
    "    df.to_csv('austria_weekly_charts/' + i, index = False)\n",
    "    \n",
    "    #Now accumulate to master file\n",
    "    alldata = pd.concat((alldata, df))\n",
    "    print(i)\n",
    "\n",
    "alldata.to_csv('all_weekly_charts/austria_masterfile.csv', index = False)"
   ]
  },
  {
   "cell_type": "code",
   "execution_count": null,
   "metadata": {},
   "outputs": [],
   "source": [
    "filenames = [i for i in os.listdir('belgium_weekly_charts') if \".csv\" in i]\n",
    "alldata = pd.DataFrame()\n",
    "\n",
    "for i in filenames:\n",
    "    date = i[31:41]\n",
    "    df = pd.read_csv('belgium_weekly_charts/' + i, header = 1)\n",
    "    df.loc[:,'Week']= date\n",
    "    df.loc[:,'Region'] = 'Belgium'\n",
    "    df.to_csv('belgium_weekly_charts/' + i, index = False)\n",
    "    \n",
    "    #Now accumulate to master file\n",
    "    alldata = pd.concat((alldata, df))\n",
    "    print(i)\n",
    "\n",
    "alldata.to_csv('all_weekly_charts/belgium_masterfile.csv', index = False)"
   ]
  },
  {
   "cell_type": "code",
   "execution_count": null,
   "metadata": {},
   "outputs": [],
   "source": [
    "filenames = [i for i in os.listdir('france_weekly_charts') if \".csv\" in i]\n",
    "alldata = pd.DataFrame()\n",
    "\n",
    "for i in filenames:\n",
    "    date = i[31:41]\n",
    "    df = pd.read_csv('france_weekly_charts/' + i, header = 1)\n",
    "    df.loc[:,'Week']= date\n",
    "    df.loc[:,'Region'] = 'France'\n",
    "    df.to_csv('france_weekly_charts/' + i, index = False)\n",
    "    \n",
    "    #Now accumulate to master file\n",
    "    alldata = pd.concat((alldata, df))\n",
    "    print(i)\n",
    "\n",
    "alldata.to_csv('all_weekly_charts/france_masterfile.csv', index = False)"
   ]
  },
  {
   "cell_type": "code",
   "execution_count": null,
   "metadata": {},
   "outputs": [],
   "source": [
    "filenames = [i for i in os.listdir('GB_weekly_charts') if \".csv\" in i]\n",
    "alldata = pd.DataFrame()\n",
    "\n",
    "for i in filenames:\n",
    "    date = i[31:41]\n",
    "    df = pd.read_csv('GB_weekly_charts/' + i, header = 1)\n",
    "    df.loc[:,'Week']= date\n",
    "    df.loc[:,'Region'] = 'Great Britain'\n",
    "    df.to_csv('GB_weekly_charts/' + i, index = False)\n",
    "    \n",
    "    #Now accumulate to master file\n",
    "    alldata = pd.concat((alldata, df))\n",
    "    print(i)\n",
    "\n",
    "alldata.to_csv('all_weekly_charts/GB_masterfile.csv', index = False)"
   ]
  },
  {
   "cell_type": "code",
   "execution_count": null,
   "metadata": {},
   "outputs": [],
   "source": [
    "filenames = [i for i in os.listdir('US_weekly_charts') if \".csv\" in i]\n",
    "alldata = pd.DataFrame()\n",
    "\n",
    "for i in filenames:\n",
    "    date = i[31:41]\n",
    "    df = pd.read_csv('US_weekly_charts/' + i, header = 1)\n",
    "    df.loc[:,'Week']= date\n",
    "    df.loc[:,'Region'] = 'United States of America'\n",
    "    df.to_csv('US_weekly_charts/' + i, index = False)\n",
    "    \n",
    "    #Now accumulate to master file\n",
    "    alldata = pd.concat((alldata, df))\n",
    "    print(i)\n",
    "\n",
    "alldata.to_csv('all_weekly_charts/US_masterfile.csv', index = False)"
   ]
  },
  {
   "cell_type": "code",
   "execution_count": null,
   "metadata": {},
   "outputs": [],
   "source": [
    "filenames = [i for i in os.listdir('bulgaria_weekly_charts') if \".csv\" in i]\n",
    "alldata = pd.DataFrame()\n",
    "\n",
    "for i in filenames:\n",
    "    date = i[31:41]\n",
    "    df = pd.read_csv('bulgaria_weekly_charts/' + i, header = 1)\n",
    "    df.loc[:,'Week']= date\n",
    "    df.loc[:,'Region'] = 'Bulgaria'\n",
    "    df.to_csv('bulgaria_weekly_charts/' + i, index = False)\n",
    "    \n",
    "    #Now accumulate to master file\n",
    "    alldata = pd.concat((alldata, df))\n",
    "    print(i)\n",
    "\n",
    "alldata.to_csv('all_weekly_charts/bulgaria_masterfile.csv', index = False)"
   ]
  },
  {
   "cell_type": "code",
   "execution_count": 125,
   "metadata": {},
   "outputs": [
    {
     "name": "stdout",
     "output_type": "stream",
     "text": [
      "GB_masterfile.csv\n",
      "bulgaria_masterfile.csv\n",
      "belgium_masterfile.csv\n",
      "US_masterfile.csv\n",
      "argentina_masterfile.csv\n",
      "france_masterfile.csv\n",
      "global_masterfile.csv\n",
      "austria_masterfile.csv\n"
     ]
    }
   ],
   "source": [
    "filenames = [i for i in os.listdir('all_weekly_charts') if \".csv\" in i]\n",
    "alldata = pd.DataFrame()\n",
    "\n",
    "for i in filenames:\n",
    "    df = pd.read_csv('all_weekly_charts/' + i)\n",
    "    \n",
    "    #Now accumulate to master file\n",
    "    alldata = pd.concat((alldata, df))\n",
    "    print(i)\n",
    "\n",
    "alldata.to_csv('all_weekly_charts/all_weekly_masterfile.csv', index = False)"
   ]
  },
  {
   "cell_type": "code",
   "execution_count": 126,
   "metadata": {},
   "outputs": [],
   "source": [
    "all_weekly = pd.read_csv('all_weekly_charts/all_weekly_masterfile.csv')\n",
    "\n",
    "# #rename first so they have the same column names to join on\n",
    "left_merged = pd.merge(all_weekly, track_features,\n",
    "                        how=\"left\", on=[\"Track Name\", \"Artist\"])\n",
    "\n",
    "left_merged.to_csv('all_weekly_charts/all_weekly_masterfile_features.csv')"
   ]
  },
  {
   "cell_type": "code",
   "execution_count": null,
   "metadata": {},
   "outputs": [],
   "source": []
  }
 ],
 "metadata": {
  "kernelspec": {
   "display_name": "Python 3",
   "language": "python",
   "name": "python3"
  },
  "language_info": {
   "codemirror_mode": {
    "name": "ipython",
    "version": 3
   },
   "file_extension": ".py",
   "mimetype": "text/x-python",
   "name": "python",
   "nbconvert_exporter": "python",
   "pygments_lexer": "ipython3",
   "version": "3.7.6"
  }
 },
 "nbformat": 4,
 "nbformat_minor": 4
}
